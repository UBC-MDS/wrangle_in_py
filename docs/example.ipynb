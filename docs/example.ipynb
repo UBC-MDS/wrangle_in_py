{
 "cells": [
  {
   "cell_type": "markdown",
   "metadata": {},
   "source": [
    "# Example usage\n",
    "\n",
    "To use `wrangle_in_py` in a project:"
   ]
  },
  {
   "cell_type": "code",
   "execution_count": 1,
   "metadata": {},
   "outputs": [
    {
     "name": "stdout",
     "output_type": "stream",
     "text": [
      "0.1.0\n"
     ]
    }
   ],
   "source": [
    "import wrangle_in_py\n",
    "\n",
    "print(wrangle_in_py.__version__)\n"
   ]
  },
  {
   "cell_type": "code",
   "execution_count": 2,
   "metadata": {},
   "outputs": [],
   "source": [
    "data_dict = {\n",
    "    \"Shift Time\": [\n",
    "        \"2025-01-01 09:00:00\", \"2025-01-01 17:00:00\", \"2025-01-04 01:00:00\", \n",
    "        \"2025-01-02 09:00:00\", \"2025-01-02 17:00:00\", \"2025-01-03 01:00:00\", \n",
    "        \"2025-01-05 09:00:00\", \"2025-01-03 17:00:00\", \"2025-01-04 01:00:00\", \n",
    "        \"2025-01-04 09:00:00\", \"2025-01-04 17:00:00\", \"2025-01-05 01:00:00\", \n",
    "        \"2025-01-05 09:00:00\", \"2025-01-05 17:00:00\", \"2025-01-06 01:00:00\",\n",
    "        \"2025-01-06 01:00:00\", \"2025-01-06 01:00:00\", \"2025-01-06 01:00:00\"\n",
    "    ],\n",
    "    \"Employee ID\": [101, 102, 103, 104, 105, 106, 107, 102, 103, 108, 109, 110, 101, 111, 112, 112, 112, 112],\n",
    "    \"Shop ID\": [1] * 18,\n",
    "    \"Task Assigned\": [\n",
    "        \"Inventory\", \"Cashier\", None, \"Cleaning\", \"Cashier\", \"Stocking\", \n",
    "        \"Inventory\", None, \"Cleaning\", \"Cashier\", \"Stocking\", \"Inventory\", \n",
    "        \"Cashier\", None, \"Cleaning\", \"Cleaning\", \"Cleaning\", \"Cleaning\"\n",
    "    ]\n",
    "}\n",
    "\n",
    "import pandas as pd\n",
    "\n",
    "# Convert the dictionary into a pandas DataFrame\n",
    "df_from_dict = pd.DataFrame(data_dict)\n",
    "\n",
    "# Ensure the \"Shift Time\" column is parsed as datetime\n",
    "df_from_dict[\"Shift Time\"] = pd.to_datetime(df_from_dict[\"Shift Time\"])\n"
   ]
  },
  {
   "cell_type": "code",
   "execution_count": 2,
   "metadata": {},
   "outputs": [],
   "source": [
    "data_dict = {\n",
    "    \"Shift Time\": [\n",
    "        \"2025-01-01 09:00:00\", \"2025-01-01 17:00:00\", \"2025-01-04 01:00:00\", \n",
    "        \"2025-01-02 09:00:00\", \"2025-01-02 17:00:00\", \"2025-01-03 01:00:00\", \n",
    "        \"2025-01-05 09:00:00\", \"2025-01-03 17:00:00\", \"2025-01-04 01:00:00\", \n",
    "        \"2025-01-04 09:00:00\", \"2025-01-04 17:00:00\", \"2025-01-05 01:00:00\", \n",
    "        \"2025-01-05 09:00:00\", \"2025-01-05 17:00:00\", \"2025-01-06 01:00:00\",\n",
    "        \"2025-01-06 01:00:00\", \"2025-01-06 01:00:00\", \"2025-01-06 01:00:00\"\n",
    "    ],\n",
    "    \"Employee ID\": [101, 102, 103, 104, 105, 106, 107, 102, 103, 108, 109, 110, 101, 111, 112, 112, 112, 112],\n",
    "    \"Shop ID\": [1] * 18,\n",
    "    \"Task Assigned\": [\n",
    "        \"Inventory\", \"Cashier\", None, \"Cleaning\", \"Cashier\", \"Stocking\", \n",
    "        \"Inventory\", None, \"Cleaning\", \"Cashier\", \"Stocking\", \"Inventory\", \n",
    "        \"Cashier\", None, \"Cleaning\", \"Cleaning\", \"Cleaning\", \"Cleaning\"\n",
    "    ]\n",
    "}\n",
    "\n",
    "import pandas as pd\n",
    "\n",
    "df_from_dict = pd.DataFrame(data_dict)\n",
    "df_from_dict[\"Shift Time\"] = pd.to_datetime(df_from_dict[\"Shift Time\"])"
   ]
  },
  {
   "cell_type": "markdown",
   "metadata": {},
   "source": [
    "## Introduction"
   ]
  },
  {
   "cell_type": "markdown",
   "metadata": {},
   "source": [
    "intro continued..."
   ]
  },
  {
   "cell_type": "code",
   "execution_count": 3,
   "metadata": {},
   "outputs": [],
   "source": [
    "# load data in "
   ]
  },
  {
   "cell_type": "markdown",
   "metadata": {},
   "source": [
    "## rename columns"
   ]
  },
  {
   "cell_type": "markdown",
   "metadata": {},
   "source": [
    "explain.."
   ]
  },
  {
   "cell_type": "markdown",
   "metadata": {},
   "source": [
    "set-up"
   ]
  },
  {
   "cell_type": "code",
   "execution_count": 4,
   "metadata": {},
   "outputs": [],
   "source": [
    "#code"
   ]
  },
  {
   "cell_type": "code",
   "execution_count": 5,
   "metadata": {},
   "outputs": [],
   "source": [
    "# more code"
   ]
  },
  {
   "cell_type": "code",
   "execution_count": 6,
   "metadata": {},
   "outputs": [],
   "source": [
    "# more code"
   ]
  },
  {
   "cell_type": "markdown",
   "metadata": {},
   "source": [
    "conclusion"
   ]
  },
  {
   "cell_type": "markdown",
   "metadata": {},
   "source": [
    "## function 2 - Remove duplicates"
   ]
  },
  {
   "cell_type": "markdown",
   "metadata": {},
   "source": [
    "We will explore the `remove_duplicates` function from the `wrangle_in_py` package. \n",
    "\n",
    "This function is designed to help clean up messy datasets by identifying and removing duplicate rows based on specified columns. Duplicate rows in datasets can lead to skewed results and inaccurate analysis, particularly when analyzing employee schedules and tasks, so it's crucial to handle them effectively as part of your data cleaning workflow."
   ]
  },
  {
   "cell_type": "markdown",
   "metadata": {},
   "source": [
    "Susie, a scheduling manager, needs to analyze staffing patterns across shifts to optimize scheduling. Her dataset contains information on employee shifts, but duplicate entries could distort her analysis. Using `remove_duplicates`, Susie can streamline her data by removing rows with the same Shift Time and Employee ID, keeping only the first occurrence of each duplicate."
   ]
  },
  {
   "cell_type": "markdown",
   "metadata": {},
   "source": [
    "Notice that several rows with duplicate \"Shift Time\" and \"Employee ID\" values exist at the bottom of the dataset. This redundancy could lead to incorrect staffing insights."
   ]
  },
  {
   "cell_type": "code",
   "execution_count": 13,
   "metadata": {},
   "outputs": [
    {
     "data": {
      "text/html": [
       "<div>\n",
       "<style scoped>\n",
       "    .dataframe tbody tr th:only-of-type {\n",
       "        vertical-align: middle;\n",
       "    }\n",
       "\n",
       "    .dataframe tbody tr th {\n",
       "        vertical-align: top;\n",
       "    }\n",
       "\n",
       "    .dataframe thead th {\n",
       "        text-align: right;\n",
       "    }\n",
       "</style>\n",
       "<table border=\"1\" class=\"dataframe\">\n",
       "  <thead>\n",
       "    <tr style=\"text-align: right;\">\n",
       "      <th></th>\n",
       "      <th>Shift Time</th>\n",
       "      <th>Employee ID</th>\n",
       "      <th>Shop ID</th>\n",
       "      <th>Task Assigned</th>\n",
       "    </tr>\n",
       "  </thead>\n",
       "  <tbody>\n",
       "    <tr>\n",
       "      <th>0</th>\n",
       "      <td>2025-01-01 09:00:00</td>\n",
       "      <td>101</td>\n",
       "      <td>1</td>\n",
       "      <td>Inventory</td>\n",
       "    </tr>\n",
       "    <tr>\n",
       "      <th>1</th>\n",
       "      <td>2025-01-01 17:00:00</td>\n",
       "      <td>102</td>\n",
       "      <td>1</td>\n",
       "      <td>Cashier</td>\n",
       "    </tr>\n",
       "    <tr>\n",
       "      <th>2</th>\n",
       "      <td>2025-01-04 01:00:00</td>\n",
       "      <td>103</td>\n",
       "      <td>1</td>\n",
       "      <td>None</td>\n",
       "    </tr>\n",
       "    <tr>\n",
       "      <th>3</th>\n",
       "      <td>2025-01-02 09:00:00</td>\n",
       "      <td>104</td>\n",
       "      <td>1</td>\n",
       "      <td>Cleaning</td>\n",
       "    </tr>\n",
       "    <tr>\n",
       "      <th>4</th>\n",
       "      <td>2025-01-02 17:00:00</td>\n",
       "      <td>105</td>\n",
       "      <td>1</td>\n",
       "      <td>Cashier</td>\n",
       "    </tr>\n",
       "    <tr>\n",
       "      <th>5</th>\n",
       "      <td>2025-01-03 01:00:00</td>\n",
       "      <td>106</td>\n",
       "      <td>1</td>\n",
       "      <td>Stocking</td>\n",
       "    </tr>\n",
       "    <tr>\n",
       "      <th>6</th>\n",
       "      <td>2025-01-05 09:00:00</td>\n",
       "      <td>107</td>\n",
       "      <td>1</td>\n",
       "      <td>Inventory</td>\n",
       "    </tr>\n",
       "    <tr>\n",
       "      <th>7</th>\n",
       "      <td>2025-01-03 17:00:00</td>\n",
       "      <td>102</td>\n",
       "      <td>1</td>\n",
       "      <td>None</td>\n",
       "    </tr>\n",
       "    <tr>\n",
       "      <th>8</th>\n",
       "      <td>2025-01-04 01:00:00</td>\n",
       "      <td>103</td>\n",
       "      <td>1</td>\n",
       "      <td>Cleaning</td>\n",
       "    </tr>\n",
       "    <tr>\n",
       "      <th>9</th>\n",
       "      <td>2025-01-04 09:00:00</td>\n",
       "      <td>108</td>\n",
       "      <td>1</td>\n",
       "      <td>Cashier</td>\n",
       "    </tr>\n",
       "    <tr>\n",
       "      <th>10</th>\n",
       "      <td>2025-01-04 17:00:00</td>\n",
       "      <td>109</td>\n",
       "      <td>1</td>\n",
       "      <td>Stocking</td>\n",
       "    </tr>\n",
       "    <tr>\n",
       "      <th>11</th>\n",
       "      <td>2025-01-05 01:00:00</td>\n",
       "      <td>110</td>\n",
       "      <td>1</td>\n",
       "      <td>Inventory</td>\n",
       "    </tr>\n",
       "    <tr>\n",
       "      <th>12</th>\n",
       "      <td>2025-01-05 09:00:00</td>\n",
       "      <td>101</td>\n",
       "      <td>1</td>\n",
       "      <td>Cashier</td>\n",
       "    </tr>\n",
       "    <tr>\n",
       "      <th>13</th>\n",
       "      <td>2025-01-05 17:00:00</td>\n",
       "      <td>111</td>\n",
       "      <td>1</td>\n",
       "      <td>None</td>\n",
       "    </tr>\n",
       "    <tr>\n",
       "      <th>14</th>\n",
       "      <td>2025-01-06 01:00:00</td>\n",
       "      <td>112</td>\n",
       "      <td>1</td>\n",
       "      <td>Cleaning</td>\n",
       "    </tr>\n",
       "    <tr>\n",
       "      <th>15</th>\n",
       "      <td>2025-01-06 01:00:00</td>\n",
       "      <td>112</td>\n",
       "      <td>1</td>\n",
       "      <td>Cleaning</td>\n",
       "    </tr>\n",
       "    <tr>\n",
       "      <th>16</th>\n",
       "      <td>2025-01-06 01:00:00</td>\n",
       "      <td>112</td>\n",
       "      <td>1</td>\n",
       "      <td>Cleaning</td>\n",
       "    </tr>\n",
       "    <tr>\n",
       "      <th>17</th>\n",
       "      <td>2025-01-06 01:00:00</td>\n",
       "      <td>112</td>\n",
       "      <td>1</td>\n",
       "      <td>Cleaning</td>\n",
       "    </tr>\n",
       "  </tbody>\n",
       "</table>\n",
       "</div>"
      ],
      "text/plain": [
       "            Shift Time  Employee ID  Shop ID Task Assigned\n",
       "0  2025-01-01 09:00:00          101        1     Inventory\n",
       "1  2025-01-01 17:00:00          102        1       Cashier\n",
       "2  2025-01-04 01:00:00          103        1          None\n",
       "3  2025-01-02 09:00:00          104        1      Cleaning\n",
       "4  2025-01-02 17:00:00          105        1       Cashier\n",
       "5  2025-01-03 01:00:00          106        1      Stocking\n",
       "6  2025-01-05 09:00:00          107        1     Inventory\n",
       "7  2025-01-03 17:00:00          102        1          None\n",
       "8  2025-01-04 01:00:00          103        1      Cleaning\n",
       "9  2025-01-04 09:00:00          108        1       Cashier\n",
       "10 2025-01-04 17:00:00          109        1      Stocking\n",
       "11 2025-01-05 01:00:00          110        1     Inventory\n",
       "12 2025-01-05 09:00:00          101        1       Cashier\n",
       "13 2025-01-05 17:00:00          111        1          None\n",
       "14 2025-01-06 01:00:00          112        1      Cleaning\n",
       "15 2025-01-06 01:00:00          112        1      Cleaning\n",
       "16 2025-01-06 01:00:00          112        1      Cleaning\n",
       "17 2025-01-06 01:00:00          112        1      Cleaning"
      ]
     },
     "execution_count": 13,
     "metadata": {},
     "output_type": "execute_result"
    }
   ],
   "source": [
    "df_from_dict"
   ]
  },
  {
   "cell_type": "code",
   "execution_count": 8,
   "metadata": {},
   "outputs": [
    {
     "name": "stdout",
     "output_type": "stream",
     "text": [
      "4 rows have been dropped.\n"
     ]
    }
   ],
   "source": [
    "from wrangle_in_py.remove_duplicates import remove_duplicates\n",
    "\n",
    "cleaned_df = remove_duplicates(df_from_dict, subset_columns=[\"Shift Time\", \"Employee ID\"], keep=\"first\")"
   ]
  },
  {
   "cell_type": "code",
   "execution_count": 9,
   "metadata": {},
   "outputs": [
    {
     "data": {
      "text/html": [
       "<div>\n",
       "<style scoped>\n",
       "    .dataframe tbody tr th:only-of-type {\n",
       "        vertical-align: middle;\n",
       "    }\n",
       "\n",
       "    .dataframe tbody tr th {\n",
       "        vertical-align: top;\n",
       "    }\n",
       "\n",
       "    .dataframe thead th {\n",
       "        text-align: right;\n",
       "    }\n",
       "</style>\n",
       "<table border=\"1\" class=\"dataframe\">\n",
       "  <thead>\n",
       "    <tr style=\"text-align: right;\">\n",
       "      <th></th>\n",
       "      <th>Shift Time</th>\n",
       "      <th>Employee ID</th>\n",
       "      <th>Shop ID</th>\n",
       "      <th>Task Assigned</th>\n",
       "    </tr>\n",
       "  </thead>\n",
       "  <tbody>\n",
       "    <tr>\n",
       "      <th>0</th>\n",
       "      <td>2025-01-01 09:00:00</td>\n",
       "      <td>101</td>\n",
       "      <td>1</td>\n",
       "      <td>Inventory</td>\n",
       "    </tr>\n",
       "    <tr>\n",
       "      <th>1</th>\n",
       "      <td>2025-01-01 17:00:00</td>\n",
       "      <td>102</td>\n",
       "      <td>1</td>\n",
       "      <td>Cashier</td>\n",
       "    </tr>\n",
       "    <tr>\n",
       "      <th>2</th>\n",
       "      <td>2025-01-04 01:00:00</td>\n",
       "      <td>103</td>\n",
       "      <td>1</td>\n",
       "      <td>None</td>\n",
       "    </tr>\n",
       "    <tr>\n",
       "      <th>3</th>\n",
       "      <td>2025-01-02 09:00:00</td>\n",
       "      <td>104</td>\n",
       "      <td>1</td>\n",
       "      <td>Cleaning</td>\n",
       "    </tr>\n",
       "    <tr>\n",
       "      <th>4</th>\n",
       "      <td>2025-01-02 17:00:00</td>\n",
       "      <td>105</td>\n",
       "      <td>1</td>\n",
       "      <td>Cashier</td>\n",
       "    </tr>\n",
       "    <tr>\n",
       "      <th>5</th>\n",
       "      <td>2025-01-03 01:00:00</td>\n",
       "      <td>106</td>\n",
       "      <td>1</td>\n",
       "      <td>Stocking</td>\n",
       "    </tr>\n",
       "    <tr>\n",
       "      <th>6</th>\n",
       "      <td>2025-01-05 09:00:00</td>\n",
       "      <td>107</td>\n",
       "      <td>1</td>\n",
       "      <td>Inventory</td>\n",
       "    </tr>\n",
       "    <tr>\n",
       "      <th>7</th>\n",
       "      <td>2025-01-03 17:00:00</td>\n",
       "      <td>102</td>\n",
       "      <td>1</td>\n",
       "      <td>None</td>\n",
       "    </tr>\n",
       "    <tr>\n",
       "      <th>9</th>\n",
       "      <td>2025-01-04 09:00:00</td>\n",
       "      <td>108</td>\n",
       "      <td>1</td>\n",
       "      <td>Cashier</td>\n",
       "    </tr>\n",
       "    <tr>\n",
       "      <th>10</th>\n",
       "      <td>2025-01-04 17:00:00</td>\n",
       "      <td>109</td>\n",
       "      <td>1</td>\n",
       "      <td>Stocking</td>\n",
       "    </tr>\n",
       "    <tr>\n",
       "      <th>11</th>\n",
       "      <td>2025-01-05 01:00:00</td>\n",
       "      <td>110</td>\n",
       "      <td>1</td>\n",
       "      <td>Inventory</td>\n",
       "    </tr>\n",
       "    <tr>\n",
       "      <th>12</th>\n",
       "      <td>2025-01-05 09:00:00</td>\n",
       "      <td>101</td>\n",
       "      <td>1</td>\n",
       "      <td>Cashier</td>\n",
       "    </tr>\n",
       "    <tr>\n",
       "      <th>13</th>\n",
       "      <td>2025-01-05 17:00:00</td>\n",
       "      <td>111</td>\n",
       "      <td>1</td>\n",
       "      <td>None</td>\n",
       "    </tr>\n",
       "    <tr>\n",
       "      <th>14</th>\n",
       "      <td>2025-01-06 01:00:00</td>\n",
       "      <td>112</td>\n",
       "      <td>1</td>\n",
       "      <td>Cleaning</td>\n",
       "    </tr>\n",
       "  </tbody>\n",
       "</table>\n",
       "</div>"
      ],
      "text/plain": [
       "            Shift Time  Employee ID  Shop ID Task Assigned\n",
       "0  2025-01-01 09:00:00          101        1     Inventory\n",
       "1  2025-01-01 17:00:00          102        1       Cashier\n",
       "2  2025-01-04 01:00:00          103        1          None\n",
       "3  2025-01-02 09:00:00          104        1      Cleaning\n",
       "4  2025-01-02 17:00:00          105        1       Cashier\n",
       "5  2025-01-03 01:00:00          106        1      Stocking\n",
       "6  2025-01-05 09:00:00          107        1     Inventory\n",
       "7  2025-01-03 17:00:00          102        1          None\n",
       "9  2025-01-04 09:00:00          108        1       Cashier\n",
       "10 2025-01-04 17:00:00          109        1      Stocking\n",
       "11 2025-01-05 01:00:00          110        1     Inventory\n",
       "12 2025-01-05 09:00:00          101        1       Cashier\n",
       "13 2025-01-05 17:00:00          111        1          None\n",
       "14 2025-01-06 01:00:00          112        1      Cleaning"
      ]
     },
     "execution_count": 9,
     "metadata": {},
     "output_type": "execute_result"
    }
   ],
   "source": [
    "cleaned_df"
   ]
  },
  {
   "cell_type": "markdown",
   "metadata": {},
   "source": [
    "In this example, 4 duplicate rows with the same 'Shift Time' and 'Employee ID' were removed. The 'keep=\"first\"' parameter ensures that the first occurrence of a duplicate is retained while subsequent duplicates are dropped. This ensures that Susie's data is clean and ready for analysis. Susie’s dataset is now ready for analysis, enabling her to generate insights into staffing patterns and scheduling needs without concerns about redundant data entries."
   ]
  },
  {
   "cell_type": "markdown",
   "metadata": {},
   "source": [
    "## function 3 - remove column based on threshold, / low coefficient of variance"
   ]
  },
  {
   "cell_type": "markdown",
   "metadata": {},
   "source": [
    "introduction info.."
   ]
  },
  {
   "cell_type": "markdown",
   "metadata": {},
   "source": [
    "more info"
   ]
  },
  {
   "cell_type": "code",
   "execution_count": 9,
   "metadata": {},
   "outputs": [],
   "source": [
    "# code"
   ]
  },
  {
   "cell_type": "code",
   "execution_count": 10,
   "metadata": {},
   "outputs": [],
   "source": [
    "# more code"
   ]
  },
  {
   "cell_type": "markdown",
   "metadata": {},
   "source": [
    "conclusion"
   ]
  },
  {
   "cell_type": "markdown",
   "metadata": {},
   "source": [
    "## Separating the datetime column into different parts"
   ]
  },
  {
   "cell_type": "markdown",
   "metadata": {},
   "source": [
    "The `extracting_ymd` and `extracting_hms` function users to create three more columns (`extracting_ymd` creates year, month, and day, whereas `extracting_hms` creates hour, minute, and second respectively) from the specified datetime column. There are two compulsory arguments. The first argument, `df`, corresponds to the dataframe containing the datetime column. The second argument is `column` indicating the name of datetime column being extracted. The output returns a copy of the input DataFrame with three new columns."
   ]
  },
  {
   "cell_type": "markdown",
   "metadata": {},
   "source": [
    "### Extracting year, month, day\n",
    "To start with, the dataframe `df_from_dict` is inputted and `Shift Time` is the datetime column to be extracted."
   ]
  },
  {
   "cell_type": "code",
   "execution_count": 11,
   "metadata": {},
   "outputs": [
    {
     "data": {
      "text/html": [
       "<div>\n",
       "<style scoped>\n",
       "    .dataframe tbody tr th:only-of-type {\n",
       "        vertical-align: middle;\n",
       "    }\n",
       "\n",
       "    .dataframe tbody tr th {\n",
       "        vertical-align: top;\n",
       "    }\n",
       "\n",
       "    .dataframe thead th {\n",
       "        text-align: right;\n",
       "    }\n",
       "</style>\n",
       "<table border=\"1\" class=\"dataframe\">\n",
       "  <thead>\n",
       "    <tr style=\"text-align: right;\">\n",
       "      <th></th>\n",
       "      <th>Shift Time</th>\n",
       "      <th>Employee ID</th>\n",
       "      <th>Shop ID</th>\n",
       "      <th>Task Assigned</th>\n",
       "      <th>Shift Time_year</th>\n",
       "      <th>Shift Time_month</th>\n",
       "      <th>Shift Time_day</th>\n",
       "    </tr>\n",
       "  </thead>\n",
       "  <tbody>\n",
       "    <tr>\n",
       "      <th>0</th>\n",
       "      <td>2025-01-01 09:00:00</td>\n",
       "      <td>101</td>\n",
       "      <td>1</td>\n",
       "      <td>Inventory</td>\n",
       "      <td>2025</td>\n",
       "      <td>1</td>\n",
       "      <td>1</td>\n",
       "    </tr>\n",
       "    <tr>\n",
       "      <th>1</th>\n",
       "      <td>2025-01-01 17:00:00</td>\n",
       "      <td>102</td>\n",
       "      <td>1</td>\n",
       "      <td>Cashier</td>\n",
       "      <td>2025</td>\n",
       "      <td>1</td>\n",
       "      <td>1</td>\n",
       "    </tr>\n",
       "    <tr>\n",
       "      <th>2</th>\n",
       "      <td>2025-01-04 01:00:00</td>\n",
       "      <td>103</td>\n",
       "      <td>1</td>\n",
       "      <td>None</td>\n",
       "      <td>2025</td>\n",
       "      <td>1</td>\n",
       "      <td>4</td>\n",
       "    </tr>\n",
       "    <tr>\n",
       "      <th>3</th>\n",
       "      <td>2025-01-02 09:00:00</td>\n",
       "      <td>104</td>\n",
       "      <td>1</td>\n",
       "      <td>Cleaning</td>\n",
       "      <td>2025</td>\n",
       "      <td>1</td>\n",
       "      <td>2</td>\n",
       "    </tr>\n",
       "    <tr>\n",
       "      <th>4</th>\n",
       "      <td>2025-01-02 17:00:00</td>\n",
       "      <td>105</td>\n",
       "      <td>1</td>\n",
       "      <td>Cashier</td>\n",
       "      <td>2025</td>\n",
       "      <td>1</td>\n",
       "      <td>2</td>\n",
       "    </tr>\n",
       "  </tbody>\n",
       "</table>\n",
       "</div>"
      ],
      "text/plain": [
       "           Shift Time  Employee ID  Shop ID Task Assigned  Shift Time_year  \\\n",
       "0 2025-01-01 09:00:00          101        1     Inventory             2025   \n",
       "1 2025-01-01 17:00:00          102        1       Cashier             2025   \n",
       "2 2025-01-04 01:00:00          103        1          None             2025   \n",
       "3 2025-01-02 09:00:00          104        1      Cleaning             2025   \n",
       "4 2025-01-02 17:00:00          105        1       Cashier             2025   \n",
       "\n",
       "   Shift Time_month  Shift Time_day  \n",
       "0                 1               1  \n",
       "1                 1               1  \n",
       "2                 1               4  \n",
       "3                 1               2  \n",
       "4                 1               2  "
      ]
     },
     "execution_count": 11,
     "metadata": {},
     "output_type": "execute_result"
    }
   ],
   "source": [
    "from wrangle_in_py.extracting_ymd_hms import extracting_ymd\n",
    "\n",
    "resulting_data = extracting_ymd(df_from_dict, \"Shift Time\")\n",
    "\n",
    "resulting_data.head()\n"
   ]
  },
  {
   "cell_type": "markdown",
   "metadata": {},
   "source": [
    "The `Shift Time` is extracted and three columns, `Shift Time_year`, `Shift Time_month`, and `Shift Time_day` are added."
   ]
  },
  {
   "cell_type": "markdown",
   "metadata": {},
   "source": [
    "### Extracting hour, minute, second\n",
    "After that, the dataframe `resulting_data` is being further processed and `Shift Time` is the datetime column to be extracted again."
   ]
  },
  {
   "cell_type": "code",
   "execution_count": 12,
   "metadata": {},
   "outputs": [
    {
     "data": {
      "text/html": [
       "<div>\n",
       "<style scoped>\n",
       "    .dataframe tbody tr th:only-of-type {\n",
       "        vertical-align: middle;\n",
       "    }\n",
       "\n",
       "    .dataframe tbody tr th {\n",
       "        vertical-align: top;\n",
       "    }\n",
       "\n",
       "    .dataframe thead th {\n",
       "        text-align: right;\n",
       "    }\n",
       "</style>\n",
       "<table border=\"1\" class=\"dataframe\">\n",
       "  <thead>\n",
       "    <tr style=\"text-align: right;\">\n",
       "      <th></th>\n",
       "      <th>Shift Time</th>\n",
       "      <th>Employee ID</th>\n",
       "      <th>Shop ID</th>\n",
       "      <th>Task Assigned</th>\n",
       "      <th>Shift Time_year</th>\n",
       "      <th>Shift Time_month</th>\n",
       "      <th>Shift Time_day</th>\n",
       "      <th>Shift Time_hour</th>\n",
       "      <th>Shift Time_minute</th>\n",
       "      <th>Shift Time_second</th>\n",
       "    </tr>\n",
       "  </thead>\n",
       "  <tbody>\n",
       "    <tr>\n",
       "      <th>0</th>\n",
       "      <td>2025-01-01 09:00:00</td>\n",
       "      <td>101</td>\n",
       "      <td>1</td>\n",
       "      <td>Inventory</td>\n",
       "      <td>2025</td>\n",
       "      <td>1</td>\n",
       "      <td>1</td>\n",
       "      <td>9</td>\n",
       "      <td>0</td>\n",
       "      <td>0</td>\n",
       "    </tr>\n",
       "    <tr>\n",
       "      <th>1</th>\n",
       "      <td>2025-01-01 17:00:00</td>\n",
       "      <td>102</td>\n",
       "      <td>1</td>\n",
       "      <td>Cashier</td>\n",
       "      <td>2025</td>\n",
       "      <td>1</td>\n",
       "      <td>1</td>\n",
       "      <td>17</td>\n",
       "      <td>0</td>\n",
       "      <td>0</td>\n",
       "    </tr>\n",
       "    <tr>\n",
       "      <th>2</th>\n",
       "      <td>2025-01-04 01:00:00</td>\n",
       "      <td>103</td>\n",
       "      <td>1</td>\n",
       "      <td>None</td>\n",
       "      <td>2025</td>\n",
       "      <td>1</td>\n",
       "      <td>4</td>\n",
       "      <td>1</td>\n",
       "      <td>0</td>\n",
       "      <td>0</td>\n",
       "    </tr>\n",
       "    <tr>\n",
       "      <th>3</th>\n",
       "      <td>2025-01-02 09:00:00</td>\n",
       "      <td>104</td>\n",
       "      <td>1</td>\n",
       "      <td>Cleaning</td>\n",
       "      <td>2025</td>\n",
       "      <td>1</td>\n",
       "      <td>2</td>\n",
       "      <td>9</td>\n",
       "      <td>0</td>\n",
       "      <td>0</td>\n",
       "    </tr>\n",
       "    <tr>\n",
       "      <th>4</th>\n",
       "      <td>2025-01-02 17:00:00</td>\n",
       "      <td>105</td>\n",
       "      <td>1</td>\n",
       "      <td>Cashier</td>\n",
       "      <td>2025</td>\n",
       "      <td>1</td>\n",
       "      <td>2</td>\n",
       "      <td>17</td>\n",
       "      <td>0</td>\n",
       "      <td>0</td>\n",
       "    </tr>\n",
       "  </tbody>\n",
       "</table>\n",
       "</div>"
      ],
      "text/plain": [
       "           Shift Time  Employee ID  Shop ID Task Assigned  Shift Time_year  \\\n",
       "0 2025-01-01 09:00:00          101        1     Inventory             2025   \n",
       "1 2025-01-01 17:00:00          102        1       Cashier             2025   \n",
       "2 2025-01-04 01:00:00          103        1          None             2025   \n",
       "3 2025-01-02 09:00:00          104        1      Cleaning             2025   \n",
       "4 2025-01-02 17:00:00          105        1       Cashier             2025   \n",
       "\n",
       "   Shift Time_month  Shift Time_day  Shift Time_hour  Shift Time_minute  \\\n",
       "0                 1               1                9                  0   \n",
       "1                 1               1               17                  0   \n",
       "2                 1               4                1                  0   \n",
       "3                 1               2                9                  0   \n",
       "4                 1               2               17                  0   \n",
       "\n",
       "   Shift Time_second  \n",
       "0                  0  \n",
       "1                  0  \n",
       "2                  0  \n",
       "3                  0  \n",
       "4                  0  "
      ]
     },
     "execution_count": 12,
     "metadata": {},
     "output_type": "execute_result"
    }
   ],
   "source": [
    "from wrangle_in_py.extracting_ymd_hms import extracting_hms\n",
    "\n",
    "resulting_data = extracting_hms(resulting_data, \"Shift Time\")\n",
    "\n",
    "resulting_data.head()"
   ]
  },
  {
   "cell_type": "markdown",
   "metadata": {},
   "source": [
    "The `Shift Time` is further extracted and three columns, `Shift Time_hour`, `Shift Time_minute`, and `Shift Time_second` are added."
   ]
  },
  {
   "cell_type": "markdown",
   "metadata": {},
   "source": [
    "general summary"
   ]
  },
  {
   "cell_type": "markdown",
   "metadata": {},
   "source": [
    "overall conclusion of full example"
   ]
  }
 ],
 "metadata": {
  "kernelspec": {
   "display_name": "Python 3 (ipykernel)",
   "language": "python",
   "name": "python3"
  },
  "language_info": {
   "codemirror_mode": {
    "name": "ipython",
    "version": 3
   },
   "file_extension": ".py",
   "mimetype": "text/x-python",
   "name": "python",
   "nbconvert_exporter": "python",
   "pygments_lexer": "ipython3",
   "version": "3.11.11"
  }
 },
 "nbformat": 4,
 "nbformat_minor": 4
}
